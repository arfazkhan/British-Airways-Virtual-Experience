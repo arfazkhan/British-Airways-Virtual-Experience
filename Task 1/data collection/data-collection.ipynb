{
 "cells": [
  {
   "cell_type": "markdown",
   "metadata": {},
   "source": [
    "# Data Collection\n",
    "_________"
   ]
  },
  {
   "cell_type": "code",
   "execution_count": 1,
   "metadata": {},
   "outputs": [],
   "source": [
    "import pandas as pd\n",
    "from bs4 import BeautifulSoup\n",
    "import requests"
   ]
  },
  {
   "cell_type": "code",
   "execution_count": 2,
   "metadata": {},
   "outputs": [],
   "source": [
    "reviews = []\n",
    "stars = []\n",
    "date = []\n",
    "country = []"
   ]
  },
  {
   "cell_type": "code",
   "execution_count": 3,
   "metadata": {},
   "outputs": [],
   "source": [
    "for i in range(1, 36):\n",
    "    page = requests.get(f\"https://www.airlinequality.com/airline-reviews/british-airways/page/{i}/?sortby=post_date%3ADesc&pagesize=100\")\n",
    "    soup = BeautifulSoup(page.content, \"html.parser\")\n",
    "\n",
    "    for item in soup.select(\".text_content\"):\n",
    "        reviews.append(item.get_text(strip=True))\n",
    "\n",
    "    for item in soup.select(\".rating-10\"):\n",
    "        span_element = item.find(\"span\")\n",
    "        if span_element:\n",
    "            stars.append(span_element.get_text(strip=True))\n",
    "        else:\n",
    "            stars.append(\"None\")\n",
    "\n",
    "    for item in soup.select(\"time\"):\n",
    "        date.append(item.get_text(strip=True))\n",
    "\n",
    "    for item in soup.select(\"h3\"):\n",
    "        span_element = item.find(\"span\")\n",
    "        if span_element and span_element.next_sibling:\n",
    "            country.append(span_element.next_sibling.get_text(strip=True).strip(\" ()\"))\n",
    "        else:\n",
    "            country.append(\"None\")"
   ]
  },
  {
   "cell_type": "code",
   "execution_count": 4,
   "metadata": {},
   "outputs": [],
   "source": [
    "min_length = min(len(reviews), len(stars), len(date), len(country))"
   ]
  },
  {
   "cell_type": "code",
   "execution_count": 5,
   "metadata": {},
   "outputs": [],
   "source": [
    "reviews = reviews[:min_length]\n",
    "stars = stars[:min_length]\n",
    "date = date[:min_length]\n",
    "country = country[:min_length]"
   ]
  },
  {
   "cell_type": "code",
   "execution_count": 6,
   "metadata": {},
   "outputs": [],
   "source": [
    "df = pd.DataFrame({\"reviews\": reviews, \"stars\": stars, \"date\": date, \"country\": country})"
   ]
  },
  {
   "cell_type": "code",
   "execution_count": 7,
   "metadata": {},
   "outputs": [],
   "source": [
    "df.to_csv(\"BA_reviews.csv\", index=False)"
   ]
  }
 ],
 "metadata": {
  "kernelspec": {
   "display_name": "Python 3",
   "language": "python",
   "name": "python3"
  },
  "language_info": {
   "codemirror_mode": {
    "name": "ipython",
    "version": 3
   },
   "file_extension": ".py",
   "mimetype": "text/x-python",
   "name": "python",
   "nbconvert_exporter": "python",
   "pygments_lexer": "ipython3",
   "version": "3.11.4"
  },
  "orig_nbformat": 4
 },
 "nbformat": 4,
 "nbformat_minor": 2
}

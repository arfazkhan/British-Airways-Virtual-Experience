{
 "cells": [
  {
   "cell_type": "code",
   "execution_count": null,
   "metadata": {},
   "outputs": [],
   "source": [
    "#imports\n",
    "import pandas as pd\n",
    "import os\n",
    "import re\n",
    "from nltk.stem import WordNetLemmatizer\n",
    "from nltk.corpus import stopwords\n",
    "\n",
    "# Set current working directory\n",
    "cwd = os.getcwd()\n",
    "\n",
    "# Read CSV file into a DataFrame\n",
    "df = pd.read_csv(os.path.join(cwd, \"BA_reviews.csv\"))\n",
    "\n",
    "# Clean 'verified' column\n",
    "df['verified'] = df['reviews'].str.contains(\"Trip Verified\")\n",
    "\n",
    "# Clean 'reviews' column and create 'corpus'\n",
    "lemma = WordNetLemmatizer()\n",
    "stop_words = set(stopwords.words(\"english\"))\n",
    "corpus = []\n",
    "for rev in df['reviews']:\n",
    "    rev = re.sub('[^a-zA-Z]', ' ', rev)\n",
    "    rev = rev.lower().split()\n",
    "    rev = [lemma.lemmatize(word) for word in rev if word not in stop_words]\n",
    "    rev = \" \".join(rev)\n",
    "    corpus.append(rev)\n",
    "df['corpus'] = corpus\n",
    "\n",
    "# Convert 'stars' column to numeric\n",
    "df['stars'] = pd.to_numeric(df['stars'], errors='coerce')\n",
    "\n",
    "# Drop rows with missing values in 'stars' or 'country' columns\n",
    "df = df.dropna(subset=['stars', 'country'])\n",
    "\n",
    "# Reset index\n",
    "df = df.reset_index(drop=True)\n",
    "\n",
    "# Export the cleaned data to a CSV file\n",
    "df.to_csv(os.path.join(cwd, \"cleaned-BA-reviews.csv\"), index=False)\n"
   ]
  }
 ],
 "metadata": {
  "kernelspec": {
   "display_name": "Python 3",
   "language": "python",
   "name": "python3"
  },
  "language_info": {
   "codemirror_mode": {
    "name": "ipython",
    "version": 3
   },
   "file_extension": ".py",
   "mimetype": "text/x-python",
   "name": "python",
   "nbconvert_exporter": "python",
   "pygments_lexer": "ipython3",
   "version": "3.11.4"
  },
  "orig_nbformat": 4
 },
 "nbformat": 4,
 "nbformat_minor": 2
}
